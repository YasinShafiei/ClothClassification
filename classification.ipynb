{
 "cells": [
  {
   "cell_type": "code",
   "execution_count": 1,
   "id": "dbdcfc51",
   "metadata": {},
   "outputs": [],
   "source": [
    "# import libraries\n",
    "import tensorflow as tf\n",
    "from keras.datasets import fashion_mnist\n",
    "import keras\n",
    "from keras.layers import Conv2D, Dense, Dropout, Flatten, MaxPooling2D\n",
    "from keras.models import Sequential, load_model\n",
    "import matplotlib.pyplot as plt"
   ]
  },
  {
   "cell_type": "code",
   "execution_count": 2,
   "id": "a39d5d69",
   "metadata": {},
   "outputs": [],
   "source": [
    "# define variables and hyperparameters\n",
    "EPOCHS = 100\n",
    "BATCH_SIZE = 128\n",
    "N_CLASSES = 10"
   ]
  },
  {
   "cell_type": "markdown",
   "id": "ff6f35bd",
   "metadata": {},
   "source": [
    "### Load the dataset"
   ]
  },
  {
   "cell_type": "markdown",
   "id": "d53831c6",
   "metadata": {},
   "source": [
    "#### Label map:\n",
    "    0: T-shirt/top\n",
    "    1: Trouser\n",
    "    2: Pullover\n",
    "    3: Dress\n",
    "    4: Coat\n",
    "    5: Sandal\n",
    "    6: Shirt\n",
    "    7: Sneaker\n",
    "    8: Bag\n",
    "    9: Ankle boot\n"
   ]
  },
  {
   "cell_type": "code",
   "execution_count": 3,
   "id": "453c461a",
   "metadata": {},
   "outputs": [],
   "source": [
    "# load the train and test partition of the dataset\n",
    "(train_images, train_labels), (test_images, test_labels) = fashion_mnist.load_data()"
   ]
  },
  {
   "cell_type": "code",
   "execution_count": 4,
   "id": "361c5099",
   "metadata": {},
   "outputs": [
    {
     "data": {
      "image/png": "[encoded data removed]",
      "text/plain": [
       "<Figure size 345.6x345.6 with 1 Axes>"
      ]
     },
     "metadata": {},
     "output_type": "display_data"
    },
    {
     "data": {
      "image/png": "[encoded data removed]",
      "text/plain": [
       "<Figure size 288x288 with 1 Axes>"
      ]
     },
     "metadata": {},
     "output_type": "display_data"
    },
    {
     "data": {
      "image/png": "[encoded data removed]",
      "text/plain": [
       "<Figure size 288x288 with 1 Axes>"
      ]
     },
     "metadata": {},
     "output_type": "display_data"
    },
    {
     "data": {
      "image/png": "[encoded data removed]",
      "text/plain": [
       "<Figure size 288x288 with 1 Axes>"
      ]
     },
     "metadata": {},
     "output_type": "display_data"
    },
    {
     "data": {
      "image/png": "[encoded data removed]",
      "text/plain": [
       "<Figure size 288x288 with 1 Axes>"
      ]
     },
     "metadata": {},
     "output_type": "display_data"
    }
   ],
   "source": [
    "# Visualize some samples of the dataset\n",
    "for i in range(5):\n",
    "    plt.matshow(train_images[i])\n",
    "    plt.title(train_labels[i])\n",
    "    plt.xticks([])\n",
    "    plt.yticks([])"
   ]
  },
  {
   "cell_type": "markdown",
   "id": "3768d7c0",
   "metadata": {},
   "source": [
    "### Normlize"
   ]
  },
  {
   "cell_type": "code",
   "execution_count": 5,
   "id": "a2aafc9c",
   "metadata": {},
   "outputs": [],
   "source": [
    "# normalize train and test images\n",
    "train_images = tf.keras.utils.normalize(train_images, axis=1)\n",
    "test_images = tf.keras.utils.normalize(test_images, axis=1)"
   ]
  },
  {
   "cell_type": "markdown",
   "id": "0beb3058",
   "metadata": {},
   "source": [
    "### Neural Networks"
   ]
  },
  {
   "cell_type": "code",
   "execution_count": 18,
   "id": "871701b8",
   "metadata": {},
   "outputs": [],
   "source": [
    "# define the model\n",
    "model = Sequential()\n",
    "\n",
    "# Input \n",
    "model.add(Conv2D(16, kernel_size=(3, 3), input_shape=(28, 28, 1), padding=\"same\", activation=\"relu\"))\n",
    "model.add(MaxPooling2D((2, 2)))\n",
    "\n",
    "# Conv Block 1\n",
    "model.add(Conv2D(64, kernel_size=(3, 3), padding=\"same\", activation=\"relu\"))\n",
    "model.add(MaxPooling2D(2, 2))\n",
    "\n",
    "# Conv Block 2\n",
    "model.add(Conv2D(64, kernel_size=(3, 3), padding=\"same\", activation=\"relu\"))\n",
    "model.add(MaxPooling2D((2, 2)))\n",
    "\n",
    "# Flatten\n",
    "model.add(Flatten())\n",
    "\n",
    "# Hidden layers\n",
    "model.add(Dense(256, activation=\"relu\"))\n",
    "model.add(Dense(512, activation=\"relu\"))\n",
    "\n",
    "# Avoid overfitting \n",
    "model.add(Dropout(0.1))\n",
    "\n",
    "# output layers\n",
    "model.add(Dense(N_CLASSES, activation=\"softmax\"))"
   ]
  },
  {
   "cell_type": "code",
   "execution_count": 19,
   "id": "a2b2b50c",
   "metadata": {},
   "outputs": [
    {
     "name": "stdout",
     "output_type": "stream",
     "text": [
      "Model: \"sequential_5\"\n",
      "_________________________________________________________________\n",
      " Layer (type)                Output Shape              Param #   \n",
      "=================================================================\n",
      " conv2d_10 (Conv2D)          (None, 28, 28, 16)        160       \n",
      "                                                                 \n",
      " max_pooling2d_10 (MaxPoolin  (None, 14, 14, 16)       0         \n",
      " g2D)                                                            \n",
      "                                                                 \n",
      " conv2d_11 (Conv2D)          (None, 14, 14, 64)        9280      \n",
      "                                                                 \n",
      " max_pooling2d_11 (MaxPoolin  (None, 7, 7, 64)         0         \n",
      " g2D)                                                            \n",
      "                                                                 \n",
      " conv2d_12 (Conv2D)          (None, 7, 7, 64)          36928     \n",
      "                                                                 \n",
      " max_pooling2d_12 (MaxPoolin  (None, 3, 3, 64)         0         \n",
      " g2D)                                                            \n",
      "                                                                 \n",
      " flatten_4 (Flatten)         (None, 576)               0         \n",
      "                                                                 \n",
      " dense_12 (Dense)            (None, 256)               147712    \n",
      "                                                                 \n",
      " dense_13 (Dense)            (None, 512)               131584    \n",
      "                                                                 \n",
      " dropout_4 (Dropout)         (None, 512)               0         \n",
      "                                                                 \n",
      " dense_14 (Dense)            (None, 10)                5130      \n",
      "                                                                 \n",
      "=================================================================\n",
      "Total params: 330,794\n",
      "Trainable params: 330,794\n",
      "Non-trainable params: 0\n",
      "_________________________________________________________________\n"
     ]
    }
   ],
   "source": [
    "# compile the model\n",
    "model.compile(optimizer=\"adam\", loss=\"sparse_categorical_crossentropy\", metrics=[\"accuracy\"])\n",
    "\n",
    "# see the model summary\n",
    "model.summary()"
   ]
  },
  {
   "cell_type": "markdown",
   "id": "0afca6af",
   "metadata": {},
   "source": [
    "### Train"
   ]
  },
  {
   "cell_type": "code",
   "execution_count": 22,
   "id": "0748d082",
   "metadata": {
    "scrolled": true
   },
   "outputs": [
    {
     "name": "stdout",
     "output_type": "stream",
     "text": [
      "Epoch 1/100\n",
      "1875/1875 [==============================] - 8s 4ms/step - loss: 0.0242 - accuracy: 0.9933\n",
      "Epoch 2/100\n",
      "1875/1875 [==============================] - 7s 4ms/step - loss: 0.0322 - accuracy: 0.9916\n",
      "Epoch 3/100\n",
      "1875/1875 [==============================] - 7s 4ms/step - loss: 0.0265 - accuracy: 0.9935\n",
      "Epoch 4/100\n",
      "1875/1875 [==============================] - 7s 4ms/step - loss: 0.0401 - accuracy: 0.9907\n",
      "Epoch 5/100\n",
      "1875/1875 [==============================] - 7s 4ms/step - loss: 0.0244 - accuracy: 0.9941\n",
      "Epoch 6/100\n",
      "1875/1875 [==============================] - 7s 4ms/step - loss: 0.0326 - accuracy: 0.9928\n",
      "Epoch 7/100\n",
      "1875/1875 [==============================] - 7s 4ms/step - loss: 0.0244 - accuracy: 0.9934\n",
      "Epoch 8/100\n",
      "1875/1875 [==============================] - 7s 4ms/step - loss: 0.0414 - accuracy: 0.9909\n",
      "Epoch 9/100\n",
      "1875/1875 [==============================] - 7s 4ms/step - loss: 0.0265 - accuracy: 0.9936\n",
      "Epoch 10/100\n",
      "1875/1875 [==============================] - 7s 4ms/step - loss: 0.0326 - accuracy: 0.9919\n",
      "Epoch 11/100\n",
      "1875/1875 [==============================] - 7s 4ms/step - loss: 0.0298 - accuracy: 0.9924\n",
      "Epoch 12/100\n",
      "1875/1875 [==============================] - 7s 4ms/step - loss: 0.0318 - accuracy: 0.9923\n",
      "Epoch 13/100\n",
      "1875/1875 [==============================] - 7s 4ms/step - loss: 0.0333 - accuracy: 0.9919\n",
      "Epoch 14/100\n",
      "1875/1875 [==============================] - 7s 4ms/step - loss: 0.0260 - accuracy: 0.9930\n",
      "Epoch 15/100\n",
      "1875/1875 [==============================] - 7s 4ms/step - loss: 0.0327 - accuracy: 0.9921\n",
      "Epoch 16/100\n",
      "1875/1875 [==============================] - 7s 4ms/step - loss: 0.0279 - accuracy: 0.9927\n",
      "Epoch 17/100\n",
      "1875/1875 [==============================] - 7s 4ms/step - loss: 0.0282 - accuracy: 0.9928\n",
      "Epoch 18/100\n",
      "1875/1875 [==============================] - 7s 4ms/step - loss: 0.0359 - accuracy: 0.9915\n",
      "Epoch 19/100\n",
      "1875/1875 [==============================] - 7s 4ms/step - loss: 0.0333 - accuracy: 0.9927\n",
      "Epoch 20/100\n",
      "1875/1875 [==============================] - 7s 4ms/step - loss: 0.0313 - accuracy: 0.9933\n",
      "Epoch 21/100\n",
      "1875/1875 [==============================] - 7s 4ms/step - loss: 0.0208 - accuracy: 0.9943\n",
      "Epoch 22/100\n",
      "1875/1875 [==============================] - 7s 4ms/step - loss: 0.0345 - accuracy: 0.9914\n",
      "Epoch 23/100\n",
      "1875/1875 [==============================] - 7s 4ms/step - loss: 0.0255 - accuracy: 0.9934\n",
      "Epoch 24/100\n",
      "1875/1875 [==============================] - 7s 4ms/step - loss: 0.0345 - accuracy: 0.9915\n",
      "Epoch 25/100\n",
      "1875/1875 [==============================] - 7s 4ms/step - loss: 0.0204 - accuracy: 0.9947\n",
      "Epoch 26/100\n",
      "1875/1875 [==============================] - 7s 4ms/step - loss: 0.0335 - accuracy: 0.9924\n",
      "Epoch 27/100\n",
      "1875/1875 [==============================] - 7s 4ms/step - loss: 0.0372 - accuracy: 0.9919\n",
      "Epoch 28/100\n",
      "1875/1875 [==============================] - 7s 4ms/step - loss: 0.0332 - accuracy: 0.9921\n",
      "Epoch 29/100\n",
      "1875/1875 [==============================] - 7s 4ms/step - loss: 0.0296 - accuracy: 0.9926\n",
      "Epoch 30/100\n",
      "1875/1875 [==============================] - 7s 4ms/step - loss: 0.0297 - accuracy: 0.9932\n",
      "Epoch 31/100\n",
      "1875/1875 [==============================] - 7s 4ms/step - loss: 0.0313 - accuracy: 0.9933\n",
      "Epoch 32/100\n",
      "1875/1875 [==============================] - 7s 4ms/step - loss: 0.0341 - accuracy: 0.9922\n",
      "Epoch 33/100\n",
      "1875/1875 [==============================] - 7s 4ms/step - loss: 0.0410 - accuracy: 0.9917\n",
      "Epoch 34/100\n",
      "1875/1875 [==============================] - 8s 4ms/step - loss: 0.0239 - accuracy: 0.9942\n",
      "Epoch 35/100\n",
      "1875/1875 [==============================] - 8s 4ms/step - loss: 0.0365 - accuracy: 0.9925\n",
      "Epoch 36/100\n",
      "1875/1875 [==============================] - 8s 4ms/step - loss: 0.0423 - accuracy: 0.9904\n",
      "Epoch 37/100\n",
      "1875/1875 [==============================] - 8s 4ms/step - loss: 0.0293 - accuracy: 0.9937\n",
      "Epoch 38/100\n",
      "1875/1875 [==============================] - 8s 4ms/step - loss: 0.0473 - accuracy: 0.9910\n",
      "Epoch 39/100\n",
      "1875/1875 [==============================] - 8s 4ms/step - loss: 0.0219 - accuracy: 0.9942\n",
      "Epoch 40/100\n",
      "1875/1875 [==============================] - 8s 4ms/step - loss: 0.0310 - accuracy: 0.9930\n",
      "Epoch 41/100\n",
      "1875/1875 [==============================] - 8s 4ms/step - loss: 0.0358 - accuracy: 0.9928\n",
      "Epoch 42/100\n",
      "1875/1875 [==============================] - 7s 4ms/step - loss: 0.0463 - accuracy: 0.9905\n",
      "Epoch 43/100\n",
      "1875/1875 [==============================] - 7s 4ms/step - loss: 0.0283 - accuracy: 0.9939\n",
      "Epoch 44/100\n",
      "1875/1875 [==============================] - 7s 4ms/step - loss: 0.0362 - accuracy: 0.9930\n",
      "Epoch 45/100\n",
      "1875/1875 [==============================] - 7s 4ms/step - loss: 0.0331 - accuracy: 0.9928\n",
      "Epoch 46/100\n",
      "1875/1875 [==============================] - 7s 4ms/step - loss: 0.0317 - accuracy: 0.9931\n",
      "Epoch 47/100\n",
      "1875/1875 [==============================] - 7s 4ms/step - loss: 0.0256 - accuracy: 0.9938\n",
      "Epoch 48/100\n",
      "1875/1875 [==============================] - 7s 4ms/step - loss: 0.0297 - accuracy: 0.9927\n",
      "Epoch 49/100\n",
      "1875/1875 [==============================] - 7s 4ms/step - loss: 0.0316 - accuracy: 0.9926\n",
      "Epoch 50/100\n",
      "1875/1875 [==============================] - 7s 4ms/step - loss: 0.0290 - accuracy: 0.9931\n",
      "Epoch 51/100\n",
      "1875/1875 [==============================] - 7s 4ms/step - loss: 0.0300 - accuracy: 0.9930\n",
      "Epoch 52/100\n",
      "1875/1875 [==============================] - 8s 4ms/step - loss: 0.0286 - accuracy: 0.9930\n",
      "Epoch 53/100\n",
      "1875/1875 [==============================] - 7s 4ms/step - loss: 0.0340 - accuracy: 0.9929\n",
      "Epoch 54/100\n",
      "1875/1875 [==============================] - 7s 4ms/step - loss: 0.0288 - accuracy: 0.9934\n",
      "Epoch 55/100\n",
      "1875/1875 [==============================] - 7s 4ms/step - loss: 0.0346 - accuracy: 0.9925\n",
      "Epoch 56/100\n",
      "1875/1875 [==============================] - 7s 4ms/step - loss: 0.0325 - accuracy: 0.9931\n",
      "Epoch 57/100\n",
      "1875/1875 [==============================] - 7s 4ms/step - loss: 0.0264 - accuracy: 0.9937\n",
      "Epoch 58/100\n",
      "1875/1875 [==============================] - 7s 4ms/step - loss: 0.0347 - accuracy: 0.9928\n",
      "Epoch 59/100\n",
      "1875/1875 [==============================] - 7s 4ms/step - loss: 0.0283 - accuracy: 0.9930\n",
      "Epoch 60/100\n",
      "1875/1875 [==============================] - 7s 4ms/step - loss: 0.0199 - accuracy: 0.9953\n",
      "Epoch 61/100\n",
      "1875/1875 [==============================] - 7s 4ms/step - loss: 0.0389 - accuracy: 0.9914\n",
      "Epoch 62/100\n",
      "1875/1875 [==============================] - 7s 4ms/step - loss: 0.0377 - accuracy: 0.9920\n",
      "Epoch 63/100\n",
      "1875/1875 [==============================] - 7s 4ms/step - loss: 0.0364 - accuracy: 0.9918\n",
      "Epoch 64/100\n",
      "1875/1875 [==============================] - 7s 4ms/step - loss: 0.0453 - accuracy: 0.9918\n",
      "Epoch 65/100\n",
      "1875/1875 [==============================] - 7s 4ms/step - loss: 0.0229 - accuracy: 0.9944\n",
      "Epoch 66/100\n",
      "1875/1875 [==============================] - 7s 4ms/step - loss: 0.0411 - accuracy: 0.9917\n",
      "Epoch 67/100\n",
      "1875/1875 [==============================] - 7s 4ms/step - loss: 0.0417 - accuracy: 0.9915\n",
      "Epoch 68/100\n",
      "1875/1875 [==============================] - 7s 4ms/step - loss: 0.0214 - accuracy: 0.9952\n",
      "Epoch 69/100\n",
      "1875/1875 [==============================] - 7s 4ms/step - loss: 0.0342 - accuracy: 0.9932\n",
      "Epoch 70/100\n",
      "1875/1875 [==============================] - 7s 4ms/step - loss: 0.0477 - accuracy: 0.9904\n",
      "Epoch 71/100\n",
      "1875/1875 [==============================] - 7s 4ms/step - loss: 0.0250 - accuracy: 0.9939\n",
      "Epoch 72/100\n",
      "1875/1875 [==============================] - 7s 4ms/step - loss: 0.0343 - accuracy: 0.9932\n",
      "Epoch 73/100\n",
      "1875/1875 [==============================] - 7s 4ms/step - loss: 0.0177 - accuracy: 0.9958\n",
      "Epoch 74/100\n",
      "1875/1875 [==============================] - 7s 4ms/step - loss: 0.0405 - accuracy: 0.9914\n",
      "Epoch 75/100\n",
      "1875/1875 [==============================] - 7s 4ms/step - loss: 0.0331 - accuracy: 0.9924\n",
      "Epoch 76/100\n",
      "1875/1875 [==============================] - 7s 4ms/step - loss: 0.0259 - accuracy: 0.9942\n",
      "Epoch 77/100\n",
      "1875/1875 [==============================] - 7s 4ms/step - loss: 0.0317 - accuracy: 0.9932\n",
      "Epoch 78/100\n",
      "1875/1875 [==============================] - 7s 4ms/step - loss: 0.0443 - accuracy: 0.9914\n",
      "Epoch 79/100\n"
     ]
    },
    {
     "name": "stdout",
     "output_type": "stream",
     "text": [
      "1875/1875 [==============================] - 7s 4ms/step - loss: 0.0268 - accuracy: 0.9942\n",
      "Epoch 80/100\n",
      "1875/1875 [==============================] - 7s 4ms/step - loss: 0.0361 - accuracy: 0.9928\n",
      "Epoch 81/100\n",
      "1875/1875 [==============================] - 7s 4ms/step - loss: 0.0327 - accuracy: 0.9930\n",
      "Epoch 82/100\n",
      "1875/1875 [==============================] - 7s 4ms/step - loss: 0.0311 - accuracy: 0.9932\n",
      "Epoch 83/100\n",
      "1875/1875 [==============================] - 7s 4ms/step - loss: 0.0356 - accuracy: 0.9928\n",
      "Epoch 84/100\n",
      "1875/1875 [==============================] - 7s 4ms/step - loss: 0.0218 - accuracy: 0.9942\n",
      "Epoch 85/100\n",
      "1875/1875 [==============================] - 8s 4ms/step - loss: 0.0307 - accuracy: 0.9930\n",
      "Epoch 86/100\n",
      "1875/1875 [==============================] - 8s 4ms/step - loss: 0.0277 - accuracy: 0.9943\n",
      "Epoch 87/100\n",
      "1875/1875 [==============================] - 8s 4ms/step - loss: 0.0371 - accuracy: 0.9920\n",
      "Epoch 88/100\n",
      "1875/1875 [==============================] - 8s 5ms/step - loss: 0.0345 - accuracy: 0.9927\n",
      "Epoch 89/100\n",
      "1875/1875 [==============================] - 8s 4ms/step - loss: 0.0370 - accuracy: 0.9920\n",
      "Epoch 90/100\n",
      "1875/1875 [==============================] - 8s 4ms/step - loss: 0.0256 - accuracy: 0.9948\n",
      "Epoch 91/100\n",
      "1875/1875 [==============================] - 8s 4ms/step - loss: 0.0380 - accuracy: 0.9918\n",
      "Epoch 92/100\n",
      "1875/1875 [==============================] - 8s 4ms/step - loss: 0.0228 - accuracy: 0.9946\n",
      "Epoch 93/100\n",
      "1875/1875 [==============================] - 8s 4ms/step - loss: 0.0505 - accuracy: 0.9910\n",
      "Epoch 94/100\n",
      "1875/1875 [==============================] - 7s 4ms/step - loss: 0.0237 - accuracy: 0.9944\n",
      "Epoch 95/100\n",
      "1875/1875 [==============================] - 7s 4ms/step - loss: 0.0258 - accuracy: 0.9937\n",
      "Epoch 96/100\n",
      "1875/1875 [==============================] - 7s 4ms/step - loss: 0.0391 - accuracy: 0.9927\n",
      "Epoch 97/100\n",
      "1875/1875 [==============================] - 7s 4ms/step - loss: 0.0231 - accuracy: 0.9945\n",
      "Epoch 98/100\n",
      "1875/1875 [==============================] - 7s 4ms/step - loss: 0.0314 - accuracy: 0.9929\n",
      "Epoch 99/100\n",
      "1875/1875 [==============================] - 7s 4ms/step - loss: 0.0420 - accuracy: 0.9919\n",
      "Epoch 100/100\n",
      "1875/1875 [==============================] - 7s 4ms/step - loss: 0.0390 - accuracy: 0.9931\n"
     ]
    }
   ],
   "source": [
    "# fit the model to training\n",
    "history=model.fit(train_images, train_labels, epochs = EPOCHS)"
   ]
  },
  {
   "cell_type": "code",
   "execution_count": 23,
   "id": "adaf514a",
   "metadata": {},
   "outputs": [
    {
     "data": {
      "image/png": "[encoded data removed]",
      "text/plain": [
       "<Figure size 432x288 with 1 Axes>"
      ]
     },
     "metadata": {
      "needs_background": "light"
     },
     "output_type": "display_data"
    },
    {
     "data": {
      "text/plain": [
       "<Figure size 432x288 with 0 Axes>"
      ]
     },
     "metadata": {},
     "output_type": "display_data"
    }
   ],
   "source": [
    "# see a graph of model's loss and accuracy\n",
    "\n",
    "plt.plot(range(EPOCHS), history.history[\"accuracy\"], label=\"Accuracy\")\n",
    "plt.plot(range(EPOCHS), history.history[\"loss\"], label=\"Loss\")\n",
    "\n",
    "plt.legend(loc=\"center right\")\n",
    "plt.title(\"Training accuracy and loss\")\n",
    "\n",
    "plt.show()\n",
    "\n",
    "# save the plot\n",
    "plt.savefig(\"training_history.png\")"
   ]
  },
  {
   "cell_type": "markdown",
   "id": "06a53b2b",
   "metadata": {},
   "source": [
    "### Test model"
   ]
  },
  {
   "cell_type": "code",
   "execution_count": 25,
   "id": "73453c6a",
   "metadata": {},
   "outputs": [
    {
     "name": "stdout",
     "output_type": "stream",
     "text": [
      "313/313 [==============================] - 1s 3ms/step - loss: 1.8358 - accuracy: 0.9078\n"
     ]
    },
    {
     "data": {
      "text/plain": [
       "[1.8357816934585571, 0.907800018787384]"
      ]
     },
     "execution_count": 25,
     "metadata": {},
     "output_type": "execute_result"
    }
   ],
   "source": [
    "# make model to predict\n",
    "model.evaluate(test_images, test_labels)"
   ]
  },
  {
   "cell_type": "markdown",
   "id": "99c13caf",
   "metadata": {},
   "source": [
    "### Save"
   ]
  },
  {
   "cell_type": "code",
   "execution_count": 26,
   "id": "a97151af",
   "metadata": {},
   "outputs": [],
   "source": [
    "# save the model\n",
    "model.save(\"classification.h5\")"
   ]
  },
  {
   "cell_type": "markdown",
   "id": "e7a91e89",
   "metadata": {},
   "source": [
    "### Test the model"
   ]
  },
  {
   "cell_type": "code",
   "execution_count": 27,
   "id": "a5998c54",
   "metadata": {},
   "outputs": [],
   "source": [
    "# load the model\n",
    "model = load_model(\"classification.h5\")"
   ]
  },
  {
   "cell_type": "code",
   "execution_count": 50,
   "id": "9b9b870c",
   "metadata": {},
   "outputs": [
    {
     "name": "stdout",
     "output_type": "stream",
     "text": [
      "1/1 [==============================] - 0s 16ms/step\n"
     ]
    },
    {
     "name": "stderr",
     "output_type": "stream",
     "text": [
      "C:\\Users\\yasin\\AppData\\Roaming\\Python\\Python310\\site-packages\\keras\\utils\\image_utils.py:382: UserWarning: grayscale is deprecated. Please use color_mode = \"grayscale\"\n",
      "  warnings.warn('grayscale is deprecated. Please use '\n"
     ]
    },
    {
     "data": {
      "image/png": "[encoded data removed]",
      "text/plain": [
       "<Figure size 432x288 with 1 Axes>"
      ]
     },
     "metadata": {
      "needs_background": "light"
     },
     "output_type": "display_data"
    }
   ],
   "source": [
    "from tensorflow.keras.preprocessing import image\n",
    "from tensorflow.keras.preprocessing.image import img_to_array\n",
    "import numpy as np\n",
    "from PIL import Image\n",
    "\n",
    "\n",
    "# make single image prediction\n",
    "org_image = Image.open(\"cloth1.jpg\")\n",
    "img = image.load_img(path=\"cloth1.jpg\", grayscale=True, target_size = (28, 28))\n",
    "img = img_to_array(img)\n",
    "img = np.expand_dims(img, axis=0)\n",
    "output = np.argmax(model.predict(img))\n",
    "\n",
    "# define labelmap\n",
    "label_map = {\n",
    "    0: \"T-shirt/top\",\n",
    "    1: \"Trouser\",\n",
    "    2: \"Pullover\",\n",
    "    3: \"Dress\",\n",
    "    4: \"Coat\",\n",
    "    5: \"Sandal\",\n",
    "    6: \"Shirt\",\n",
    "    7: \"Sneaker\",\n",
    "    8: \"Bag\",\n",
    "    9: \"Ankle boot\",\n",
    "}\n",
    "\n",
    "# plot the prediction\n",
    "plt.imshow(org_image)\n",
    "plt.title(f\"prediction: {label_map[output]}\")"
   ]
  },
  {
   "cell_type": "code",
   "execution_count": null,
   "id": "3e188e90",
   "metadata": {},
   "outputs": [],
   "source": []
  }
 ],
 "metadata": {
  "kernelspec": {
   "display_name": "Python 3 (ipykernel)",
   "language": "python",
   "name": "python3"
  },
  "language_info": {
   "codemirror_mode": {
    "name": "ipython",
    "version": 3
   },
   "file_extension": ".py",
   "mimetype": "text/x-python",
   "name": "python",
   "nbconvert_exporter": "python",
   "pygments_lexer": "ipython3",
   "version": "3.10.4"
  }
 },
 "nbformat": 4,
 "nbformat_minor": 5
}
